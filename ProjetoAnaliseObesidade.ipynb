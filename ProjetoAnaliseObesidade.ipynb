{
  "nbformat": 4,
  "nbformat_minor": 0,
  "metadata": {
    "colab": {
      "private_outputs": true,
      "provenance": [],
      "collapsed_sections": [
        "9QeJR1AIZeAu",
        "snXgtA8cOtEi",
        "CTAonpj7vvzZ",
        "66NhatEkak82"
      ],
      "authorship_tag": "ABX9TyOBbHy8GCPUI8GrLRCneRVh",
      "include_colab_link": true
    },
    "kernelspec": {
      "name": "python3",
      "display_name": "Python 3"
    },
    "language_info": {
      "name": "python"
    }
  },
  "cells": [
    {
      "cell_type": "markdown",
      "metadata": {
        "id": "view-in-github",
        "colab_type": "text"
      },
      "source": [
        "<a href=\"https://colab.research.google.com/github/MendesRamon/AnaliseObesidadeAdultos/blob/main/ProjetoAnaliseObesidade.ipynb\" target=\"_parent\"><img src=\"https://colab.research.google.com/assets/colab-badge.svg\" alt=\"Open In Colab\"/></a>"
      ]
    },
    {
      "cell_type": "markdown",
      "source": [
        "# Projeto - Analise de Obesidade entre Adultos por País - 1975 à 2016\n",
        "\n",
        "### Análise Descritiva de Dados\n",
        "\n",
        "![obseity](https://github.com/user-attachments/assets/d6da680d-b891-4d7c-8baa-e5f8dbcb8124)\n",
        "\n",
        "Este documento apresenta uma análise descritiva de dados de obesidade entre adultos de diferentes países entre os  anos 1975 a 2016. E tem como objetivo responder as principais perguntas que segue:\n",
        "\n",
        "- Qual o percentual médio de obesidade por sexo no mundo no ano de 2015?\n",
        "- Quais são os 5 países com a maior e a menor taxa de aumento nos índices de obesidade no período observado?\n",
        "- Quais os países com maiores e menores níveis percetuais de obesidade em 2015?\n",
        "- Qual a diferença média percentual de obesidade entre sexos ao longo dos anos para o Brasil?\n",
        "- Qual a diferença média do percentual de obesidade entre o sexos do feminino pro masculino nos últimos 5 anos do mundo?\n",
        "-  a evolução da obesidade para ambos sexos no mundo.\n",
        "\n",
        "\n",
        "Os dados deste projeto se encontra no link abaixo. E foi sedenvolvido com o objetivo de praticar a linguagem Python e análise de dados.\n",
        "\n",
        "[Obesity among adults by country, 1975-2016](https://www.kaggle.com/amanarora/obesity-among-adults-by-country-19752016/)\n",
        "\n",
        "\n",
        "_Desenvolvido por: Ramon Mendes_"
      ],
      "metadata": {
        "id": "kxKeG0o73btg"
      }
    },
    {
      "cell_type": "markdown",
      "source": [
        "# Importação dos Dados e Análise do Dataset\n",
        "\n",
        "- Importar bibliotecas necessárias;\n",
        "- Visualizar o _dataset_;\n",
        "- Utilizar métodos das bibliotecas (info, describe)"
      ],
      "metadata": {
        "id": "9QeJR1AIZeAu"
      }
    },
    {
      "cell_type": "code",
      "source": [
        "#importando bibliotecas\n",
        "import pandas as pd\n",
        "import numpy as np"
      ],
      "metadata": {
        "id": "tNGAnA5QJSnG"
      },
      "execution_count": null,
      "outputs": []
    },
    {
      "cell_type": "code",
      "source": [
        "\n",
        "\n",
        "\n",
        "#importando dados\n",
        "df_obesity = pd.read_csv(\"obesity.csv\")"
      ],
      "metadata": {
        "id": "TaWOHR-nKQJU"
      },
      "execution_count": null,
      "outputs": []
    },
    {
      "cell_type": "markdown",
      "source": [
        "- Análise do dataset"
      ],
      "metadata": {
        "id": "m3N7vx92NShI"
      }
    },
    {
      "cell_type": "code",
      "source": [
        "df_obesity.head()"
      ],
      "metadata": {
        "id": "Bmw8Qm-xLZWN"
      },
      "execution_count": null,
      "outputs": []
    },
    {
      "cell_type": "code",
      "source": [
        "df_obesity.info()"
      ],
      "metadata": {
        "id": "VMF0FS7yNRAj"
      },
      "execution_count": null,
      "outputs": []
    },
    {
      "cell_type": "code",
      "source": [
        "df_obesity.describe()"
      ],
      "metadata": {
        "id": "5vkwxqxFNc4I"
      },
      "execution_count": null,
      "outputs": []
    },
    {
      "cell_type": "code",
      "source": [
        "df_obesity.shape"
      ],
      "metadata": {
        "id": "zIjD4Lg_uvRs"
      },
      "execution_count": null,
      "outputs": []
    },
    {
      "cell_type": "code",
      "source": [
        "df_obesity.columns"
      ],
      "metadata": {
        "id": "Dt23JL5DvQ6o"
      },
      "execution_count": null,
      "outputs": []
    },
    {
      "cell_type": "markdown",
      "source": [
        "# Tratamento dos dados\n",
        "\n",
        "- No _dataset_ temos 24.570 linhas e 5 colunas;\n",
        "- Foi identificado a coluna 'Unnamed: 0' que não será necessário, pois teremos outra coluna como índece, então será dado _drop_;\n",
        "- Na coluna 'Obesity (%)' será extraído os percentuais de obesidade e receber o tipo de dado como _float_;\n",
        "- Renomear a coluna 'Obesity (%)' para 'Obesity';\n",
        "- Tipagem de dados;\n",
        "- Manter apenas os dados classificados como obesos ('Obesity (%)' informa);\n",
        "- Setar uma coluna como índice;\n",
        "- Visualizar o _dataset_ tratado.\n"
      ],
      "metadata": {
        "id": "snXgtA8cOtEi"
      }
    },
    {
      "cell_type": "markdown",
      "source": [
        "#### Limpeza e tratamento dos dados"
      ],
      "metadata": {
        "id": "CTAonpj7vvzZ"
      }
    },
    {
      "cell_type": "code",
      "source": [
        "#excluindo a coluna 'Unnamed: 0'\n",
        "del df_obesity['Unnamed: 0']"
      ],
      "metadata": {
        "id": "EDgw9CDSvWJz"
      },
      "execution_count": null,
      "outputs": []
    },
    {
      "cell_type": "code",
      "source": [
        "#tratando a coluna Obesity (%)\n",
        "#df_obesity['Obesity (%)'].value_counts()"
      ],
      "metadata": {
        "id": "V9blyC20v5aG"
      },
      "execution_count": null,
      "outputs": []
    },
    {
      "cell_type": "code",
      "source": [
        "#extraindo o % de obesidade da coluna\n",
        "#na coluna escolhida é dados split - transformando em lista\n",
        "#uma vez que tenho a lista, posso pegar o primeiro valor(já que a coluna está padronizada com o % primeiro)\n",
        "#atriuo essa transformação na própria coluna\n",
        "df_obesity['Obesity (%)'] = df_obesity['Obesity (%)'].apply(lambda x: x.split()[0])"
      ],
      "metadata": {
        "id": "MR1nscAqwMa9"
      },
      "execution_count": null,
      "outputs": []
    },
    {
      "cell_type": "code",
      "source": [
        "#visualizando o resultado\n",
        "df_obesity[['Obesity (%)']].head(3)"
      ],
      "metadata": {
        "id": "afo_TnxGQahf"
      },
      "execution_count": null,
      "outputs": []
    },
    {
      "cell_type": "code",
      "source": [
        "df_obesity.head()"
      ],
      "metadata": {
        "id": "0P5h-ZM7QggX"
      },
      "execution_count": null,
      "outputs": []
    },
    {
      "cell_type": "code",
      "source": [
        "df_obesity[['Obesity (%)']].describe()"
      ],
      "metadata": {
        "id": "Tx9lBJ2HTfoy"
      },
      "execution_count": null,
      "outputs": []
    },
    {
      "cell_type": "markdown",
      "source": [
        "É necessário tratar o 'No'"
      ],
      "metadata": {
        "id": "cagikK5vWSqB"
      }
    },
    {
      "cell_type": "code",
      "source": [
        "#verificando o menor valor\n",
        "df_obesity['Obesity (%)'].min()"
      ],
      "metadata": {
        "id": "4PlDzkgBUP_k"
      },
      "execution_count": null,
      "outputs": []
    },
    {
      "cell_type": "code",
      "source": [
        "#renomeando coluna\n",
        "df_obesity.rename(columns={'Obesity (%)': 'Obesity'}, inplace=True)"
      ],
      "metadata": {
        "id": "MLBTejouUYf2"
      },
      "execution_count": null,
      "outputs": []
    },
    {
      "cell_type": "code",
      "source": [
        "df_obesity.columns"
      ],
      "metadata": {
        "id": "ABSFS3VYUovV"
      },
      "execution_count": null,
      "outputs": []
    },
    {
      "cell_type": "code",
      "source": [
        "#encontrando e trantando o dado\n",
        "#transformando o \"No\" em \"Nan\"\n",
        "df_obesity.loc[df_obesity['Obesity']== \"No\", \"Obesity\"] = np.nan"
      ],
      "metadata": {
        "id": "gJ8XHJmoWgLv"
      },
      "execution_count": null,
      "outputs": []
    },
    {
      "cell_type": "code",
      "source": [
        "#agora podemos tratar\n",
        "#como quero analisar os classificados como obesos, os que não estão serão excluídos do dataset\n",
        "df_obesity['Obesity'] = df_obesity['Obesity'].dropna()"
      ],
      "metadata": {
        "id": "tCe8Jz9_XXs_"
      },
      "execution_count": null,
      "outputs": []
    },
    {
      "cell_type": "code",
      "source": [
        "#tipando os dados numéricos:\n",
        "#percentual em float;\n",
        "#ano em inteiro.\n",
        "df_obesity['Obesity'] = df_obesity['Obesity'].apply(lambda x: float(x))\n",
        "df_obesity ['Year'] = df_obesity ['Year'].apply(lambda x: int(x))"
      ],
      "metadata": {
        "id": "ePGHDHk1VRbt"
      },
      "execution_count": null,
      "outputs": []
    },
    {
      "cell_type": "code",
      "source": [
        "#agora, irei setar a coluna Year como index para melhor manusear o dataset\n",
        "df_obesity.set_index(\"Year\", inplace=True)"
      ],
      "metadata": {
        "id": "xONpZ9yZWHp9"
      },
      "execution_count": null,
      "outputs": []
    },
    {
      "cell_type": "code",
      "source": [
        "df_obesity['Country'].value_counts().unique()"
      ],
      "metadata": {
        "id": "2_51_qx_n_SF"
      },
      "execution_count": null,
      "outputs": []
    },
    {
      "cell_type": "code",
      "source": [
        "df_obesity.info()"
      ],
      "metadata": {
        "id": "pXfarGpzbzL_"
      },
      "execution_count": null,
      "outputs": []
    },
    {
      "cell_type": "code",
      "source": [
        "df_obesity['Obesity'].hist()"
      ],
      "metadata": {
        "id": "CGqXSpm3u2A3"
      },
      "execution_count": null,
      "outputs": []
    },
    {
      "cell_type": "code",
      "source": [
        "df_obesity.describe()"
      ],
      "metadata": {
        "id": "eg4oIHRybrho"
      },
      "execution_count": null,
      "outputs": []
    },
    {
      "cell_type": "code",
      "source": [
        "#visualizando a tabela tratada\n",
        "df_obesity.head()"
      ],
      "metadata": {
        "id": "GrMXpA53YQ4L"
      },
      "execution_count": null,
      "outputs": []
    },
    {
      "cell_type": "markdown",
      "source": [
        "# Análise dos Dados\n",
        "\n",
        "- Aqui será extraído as respostas das perguntas pré-definidas no início do projeto.\n",
        "- Será utilizado _output_ de tabelas, gráficos e estatística descritiva.\n",
        "- Conclusão da  análise."
      ],
      "metadata": {
        "id": "66NhatEkak82"
      }
    },
    {
      "cell_type": "markdown",
      "source": [
        "- Qual o percentual médio de obesidade por sexo no mundo no ano de 2015?"
      ],
      "metadata": {
        "id": "Sm_H5CbpcG0d"
      }
    },
    {
      "cell_type": "code",
      "source": [
        "df_obesity[df_obesity.index==2015].groupby('Sex')[['Obesity']].mean()"
      ],
      "metadata": {
        "id": "is6BKtwRcXz_"
      },
      "execution_count": null,
      "outputs": []
    },
    {
      "cell_type": "markdown",
      "source": [
        "- Quais são os 5 países com a maior e a menor taxa de aumento nos índices de obesidade no período observado?"
      ],
      "metadata": {
        "id": "yoRNHExTdWSN"
      }
    },
    {
      "cell_type": "code",
      "source": [
        "#5 países com maior taxa de obesidade no período observado\n",
        "df_obesity.groupby(['Country'])['Obesity'].max().sort_values(ascending=False).head(5)"
      ],
      "metadata": {
        "id": "Ep8sTIs0co6x"
      },
      "execution_count": null,
      "outputs": []
    },
    {
      "cell_type": "code",
      "source": [
        "#5 países com maior taxa de obesidade no período observado\n",
        "df_obesity.groupby('Country')['Obesity'].min().sort_values(ascending=True).head(5)"
      ],
      "metadata": {
        "id": "pEEwf82Uds64"
      },
      "execution_count": null,
      "outputs": []
    },
    {
      "cell_type": "markdown",
      "source": [
        "- Quais os países com maiores e menores níveis percetuais de obesidade em 2015?"
      ],
      "metadata": {
        "id": "hGEMGsEXfcPg"
      }
    },
    {
      "cell_type": "code",
      "source": [
        "#defino uma tabela filtrada para melhor manuseio\n",
        "df_obesity2015 = df_obesity[df_obesity.index == 2015]"
      ],
      "metadata": {
        "id": "xoDUBnB9ex2X"
      },
      "execution_count": null,
      "outputs": []
    },
    {
      "cell_type": "code",
      "source": [
        "df_obesity2015.groupby(['Country'])['Obesity'].max().sort_values(ascending=False).head(5)"
      ],
      "metadata": {
        "id": "Ew7fIhHGgVKl"
      },
      "execution_count": null,
      "outputs": []
    },
    {
      "cell_type": "code",
      "source": [
        "df_obesity2015.groupby('Country')['Obesity'].min().sort_values(ascending=True).head(5)"
      ],
      "metadata": {
        "id": "xaIIWQINgr0z"
      },
      "execution_count": null,
      "outputs": []
    },
    {
      "cell_type": "markdown",
      "source": [
        "- Qual a diferença média percentual de obesidade entre sexos ao longo dos anos para o Brasil?"
      ],
      "metadata": {
        "id": "m18Xqv-IhLtq"
      }
    },
    {
      "cell_type": "code",
      "source": [
        "#defino um dataset filtrado com o país\n",
        "df_brazil = df_obesity[df_obesity['Country']==\"Brazil\"]"
      ],
      "metadata": {
        "id": "zU1UmjguhWXp"
      },
      "execution_count": null,
      "outputs": []
    },
    {
      "cell_type": "code",
      "source": [
        "import matplotlib.pyplot as plt\n",
        "#Salvando imagem do plot\n",
        "# Subtrai a obesidade de mulheres da obesidade de homens e plota\n",
        "(df_brazil[df_brazil['Sex']==\"Female\"]['Obesity'] - df_brazil[df_brazil['Sex']==\"Male\"]['Obesity']).plot()\n",
        "plt.title('Diferença % na Obesidade entre Mulheres e Homens no Brasil')\n",
        "plt.xlabel('Ano')\n",
        "plt.ylabel('Diferença de Obesidade (%)')\n",
        "plt.grid(True)\n",
        "plt.savefig('obesity_difference.png')  # Salva o gráfico como uma imagem\n",
        "plt.show()  # Exibe o gráfico"
      ],
      "metadata": {
        "id": "MJ-KS1e8vQpZ"
      },
      "execution_count": null,
      "outputs": []
    },
    {
      "cell_type": "markdown",
      "source": [
        "- Qual a diferença média do percentual de obesidade entre o sexos do feminino pro masculino nos últimos 5 anos do mundo?"
      ],
      "metadata": {
        "id": "7RB0oE1Visgf"
      }
    },
    {
      "cell_type": "code",
      "source": [
        "df_sex = df_obesity.groupby(['Year', 'Sex'])['Obesity'].mean().unstack().reset_index()\n",
        "df_sex['Difference'] = df_sex['Female'] - df_sex['Male']\n",
        "df_sex.sort_values(by='Year', ascending=False).head(5)"
      ],
      "metadata": {
        "id": "8531Krl-jBpi"
      },
      "execution_count": null,
      "outputs": []
    },
    {
      "cell_type": "code",
      "source": [
        "df_sex[df_sex['Year']>=2012]['Difference'].mean()"
      ],
      "metadata": {
        "id": "rvuaXSK3s8ej"
      },
      "execution_count": null,
      "outputs": []
    },
    {
      "cell_type": "markdown",
      "source": [
        "- A evolução da obesidade para ambos sexos no mundo."
      ],
      "metadata": {
        "id": "butno3ChiS1H"
      }
    },
    {
      "cell_type": "code",
      "source": [
        "df_both = df_obesity[df_obesity['Sex']==\"Both sexes\"]"
      ],
      "metadata": {
        "id": "28VcX1dShlW3"
      },
      "execution_count": null,
      "outputs": []
    },
    {
      "cell_type": "code",
      "source": [
        "df_both.groupby('Year')['Obesity'].mean().plot()\n",
        "plt.title('Evolução de Obesidade de Ambos os Sexos no Mundo')\n",
        "plt.xlabel('Ano')\n",
        "plt.ylabel('Diferença de Obesidade (%)')\n",
        "plt.grid(True)\n",
        "plt.savefig('evolucao_ano.png')  # Salva o gráfico como uma imagem\n",
        "plt.show()  # Exibe o gráfico"
      ],
      "metadata": {
        "id": "YPoY00CowDUj"
      },
      "execution_count": null,
      "outputs": []
    },
    {
      "cell_type": "markdown",
      "source": [
        "# Conclusão\n",
        "\n",
        "Após aplicado uma análise descritiva sobre a obesidade em 126 países nos anos de 1975 à 2016, podemos observar que o percentual médio de obesidade no mundo de ambos os sexos em **2015** é de **22,90% para o sexo feminino e de 15,98% para o masculino**.\n",
        "\n",
        "Os 5 países com a **maior** taxa de obesidade no período observado se encontra na tabela abaixo com os respectivos percentuais:\n",
        "\n",
        "| País             | Obesidade (%) |\n",
        "|------------------|---------------|\n",
        "| Nauru            | 63.3          |\n",
        "| Cook Islands     | 59.2          |\n",
        "| Palau            | 58.8          |\n",
        "| Marshall Islands | 57.3          |\n",
        "| Tuvalu           | 56.2          |\n",
        "\n",
        "Os 5 países com a **menor** taxa de obesidade no período observado se encontra na tabela abaixo com os respectivos percentuais:\n",
        "\n",
        "| Country       | Obesity (%) |\n",
        "|---------------|--------------|\n",
        "| Nepal         | 0.1          |\n",
        "| Viet Nam      | 0.1          |\n",
        "| Cambodia      | 0.1          |\n",
        "| Indonesia     | 0.1          |\n",
        "| Timor-Leste   | 0.1          |\n",
        "\n",
        "Quando olhamos para o ano de **2015** obtemos os seguintes resultados:\n",
        "\n",
        "Maiores percentuais\n",
        "\n",
        "| Country          | Obesity (%) |\n",
        "|------------------|-------------|\n",
        "| Nauru            | 63.1        |\n",
        "| Cook Islands     | 58.8        |\n",
        "| Palau            | 58.4        |\n",
        "| Marshall Islands | 56.9        |\n",
        "| Tuvalu           | 55.6        |\n",
        "\n",
        "Menores percentuais:\n",
        "\n",
        "| Country   | Obesity (%) |\n",
        "|-----------|--------------|\n",
        "| Viet Nam  | 1.5          |\n",
        "| Uganda    | 1.7          |\n",
        "| Ethiopia  | 1.8          |\n",
        "| Rwanda    | 1.8          |\n",
        "| Eritrea   | 1.9          |\n",
        "\n",
        "Nos últimos 5 anos, no mundo, é observado que a média percentual de obesidade feminina é maior que a masculina, tendo uma **diferença média de 6,92% maior** para o feminino em comparação ao masculino.\n",
        "\n",
        "\n",
        "| Year | Both sexes | Female   | Male     | Difference |\n",
        "|------|------------|----------|----------|------------|\n",
        "| 2016 | 19.960733  | 23.350262| 16.442932| 6.907330   |\n",
        "| 2015 | 19.508377  | 22.899476| 15.980628| 6.918848   |\n",
        "| 2014 | 19.043979  | 22.457068| 15.534031| 6.923037   |\n",
        "| 2013 | 18.609424  | 22.021990| 15.097382| 6.924607   |\n",
        "| 2012 | 18.178534  | 21.589005| 14.672251| 6.916754   |\n",
        "\n",
        "\n",
        "Conforme é observado no gráfico abaixo, ousaria dizer que a obesidade é uma crescente exponencial nos anos observos, nos quais as causas são diversas como, doenças que causam obesidade, sedentarismo, má alimentação. Porém, não foi possível analisar este tipo de situação devido a limitação dos dados analisados.\n",
        "\n",
        "![evolucao_ano](https://github.com/user-attachments/assets/cb33a0af-00ae-43c2-82b2-596bef24dd08)\n",
        "\n",
        "\n",
        "\n",
        "\n",
        "\n",
        "\n"
      ],
      "metadata": {
        "id": "kGnBBHBcm99t"
      }
    }
  ]
}